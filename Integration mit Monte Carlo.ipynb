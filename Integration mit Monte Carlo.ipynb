{
 "cells": [
  {
   "cell_type": "code",
   "execution_count": 1,
   "id": "c6b80d55",
   "metadata": {},
   "outputs": [],
   "source": [
    "import random as r\n",
    "import datetime as t\n",
    "import matplotlib.pyplot as plt"
   ]
  },
  {
   "cell_type": "code",
   "execution_count": 2,
   "id": "f65b9b7a",
   "metadata": {},
   "outputs": [],
   "source": [
    "def fu(x):\n",
    "    x=2*x\n",
    "    #x=1/x\n",
    "    return x\n",
    "def int(x):\n",
    "    x=x**2\n",
    "    return x"
   ]
  },
  {
   "cell_type": "code",
   "execution_count": 9,
   "id": "f3cd7552",
   "metadata": {},
   "outputs": [
    {
     "data": {
      "text/plain": [
       "9.438713185454846"
      ]
     },
     "execution_count": 9,
     "metadata": {},
     "output_type": "execute_result"
    }
   ],
   "source": [
    "fu(3.1415**0.25)"
   ]
  },
  {
   "cell_type": "code",
   "execution_count": 3,
   "id": "2504b205",
   "metadata": {},
   "outputs": [
    {
     "data": {
      "text/plain": [
       "datetime.datetime(2023, 12, 27, 13, 55, 53, 40921)"
      ]
     },
     "execution_count": 3,
     "metadata": {},
     "output_type": "execute_result"
    }
   ],
   "source": [
    "t.datetime.now()"
   ]
  },
  {
   "cell_type": "code",
   "execution_count": 5,
   "id": "2fb0c486",
   "metadata": {},
   "outputs": [
    {
     "name": "stdout",
     "output_type": "stream",
     "text": [
      "Anzahl der Iterationsschritte: 100\n",
      "Integriert durch MC:  0.9573957293506226\n",
      "Abweichung von der analytischen Lösung: 4.26 %\n",
      "Rechenzeit: 0:00:00\n"
     ]
    }
   ],
   "source": [
    "sum=0\n",
    "N=100\n",
    "a=0\n",
    "b=1\n",
    "c=t.datetime.now()\n",
    "for i in range(N):\n",
    "    sum+=fu(r.uniform(a,b))\n",
    "d=t.datetime.now()\n",
    "e=int(b)-int(a)\n",
    "#print(sum)\n",
    "print(\"Anzahl der Iterationsschritte:\",N)\n",
    "print(\"Integriert durch MC: \",(b-a)*sum/N)\n",
    "print(\"Abweichung von der analytischen Lösung:\",round((abs(e-(b-a)*sum/N)/e)*100,2), \"%\")\n",
    "print(\"Rechenzeit:\",d-c)"
   ]
  },
  {
   "cell_type": "code",
   "execution_count": 6,
   "id": "60029f32",
   "metadata": {},
   "outputs": [
    {
     "name": "stdout",
     "output_type": "stream",
     "text": [
      "0:00:03.682280\n"
     ]
    }
   ],
   "source": [
    "area=[]\n",
    "c=t.datetime.now()\n",
    "for i in range(100000):\n",
    "    sum=0\n",
    "    N=100\n",
    "    a=0\n",
    "    b=3.1415**0.25\n",
    "    for i in range(N):\n",
    "        sum+=fu(r.uniform(a,b))\n",
    "    area.append((b-a)*sum/N)\n",
    "d=t.datetime.now()\n",
    "print(d-c)"
   ]
  },
  {
   "cell_type": "code",
   "execution_count": 7,
   "id": "2cb5d801",
   "metadata": {},
   "outputs": [],
   "source": [
    "def MCIntegration(ran, N, a, b):\n",
    "    area=[]\n",
    "    c=t.datetime.now()\n",
    "    for i in range(ran):\n",
    "        sum=0\n",
    "        #N=100\n",
    "        #a=0\n",
    "        #b=3.1415**0.25\n",
    "        for i in range(N):\n",
    "            sum+=fu(r.uniform(a,b))\n",
    "        area.append((b-a)*sum/N)\n",
    "    d=t.datetime.now()\n",
    "    print(d-c)\n",
    "    return area"
   ]
  },
  {
   "cell_type": "code",
   "execution_count": 8,
   "id": "edb9f61f",
   "metadata": {
    "scrolled": false
   },
   "outputs": [
    {
     "name": "stdout",
     "output_type": "stream",
     "text": [
      "0:00:00.042658\n"
     ]
    }
   ],
   "source": [
    "daten=MCIntegration(1000,100,0,1)"
   ]
  },
  {
   "cell_type": "code",
   "execution_count": 13,
   "id": "80ebd83b",
   "metadata": {
    "scrolled": false
   },
   "outputs": [
    {
     "name": "stdout",
     "output_type": "stream",
     "text": [
      "0:00:03.064563\n"
     ]
    },
    {
     "data": {
      "text/plain": [
       "(array([3.0000e+00, 8.0000e+00, 1.2000e+01, 3.9000e+01, 1.0000e+02,\n",
       "        1.9200e+02, 4.7000e+02, 8.9800e+02, 1.5990e+03, 2.7000e+03,\n",
       "        4.0260e+03, 5.8300e+03, 7.8100e+03, 9.3870e+03, 1.0682e+04,\n",
       "        1.1266e+04, 1.0701e+04, 9.4850e+03, 7.8730e+03, 6.1130e+03,\n",
       "        4.2750e+03, 2.8560e+03, 1.8180e+03, 9.6000e+02, 4.9900e+02,\n",
       "        2.3500e+02, 9.6000e+01, 4.9000e+01, 1.4000e+01, 4.0000e+00]),\n",
       " array([0.7485494 , 0.76471316, 0.78087691, 0.79704067, 0.81320443,\n",
       "        0.82936818, 0.84553194, 0.8616957 , 0.87785946, 0.89402321,\n",
       "        0.91018697, 0.92635073, 0.94251448, 0.95867824, 0.974842  ,\n",
       "        0.99100576, 1.00716951, 1.02333327, 1.03949703, 1.05566078,\n",
       "        1.07182454, 1.0879883 , 1.10415206, 1.12031581, 1.13647957,\n",
       "        1.15264333, 1.16880708, 1.18497084, 1.2011346 , 1.21729835,\n",
       "        1.23346211]),\n",
       " <BarContainer object of 30 artists>)"
      ]
     },
     "execution_count": 13,
     "metadata": {},
     "output_type": "execute_result"
    },
    {
     "data": {
      "image/png": "[encoded data removed]",
      "text/plain": [
       "<Figure size 640x480 with 1 Axes>"
      ]
     },
     "metadata": {},
     "output_type": "display_data"
    }
   ],
   "source": [
    "plt.title(\"Häufigkeitsverteilung\")\n",
    "plt.xlabel(\"Ergebnis\")\n",
    "plt.ylabel(\"Absolute Häufigkeit des Ergebnisses\")\n",
    "plt.hist(MCIntegration(100000,100,0,1), bins=30, ec=\"black\")"
   ]
  },
  {
   "cell_type": "code",
   "execution_count": 4,
   "id": "54942907",
   "metadata": {},
   "outputs": [
    {
     "data": {
      "text/plain": [
       "1"
      ]
     },
     "execution_count": 4,
     "metadata": {},
     "output_type": "execute_result"
    }
   ],
   "source": [
    "ar=[1,2,4,2,3,1, 1, 1]\n",
    "max(ar, key=ar.count)\n"
   ]
  },
  {
   "cell_type": "code",
   "execution_count": 5,
   "id": "e8441e3e",
   "metadata": {},
   "outputs": [
    {
     "data": {
      "text/plain": [
       "4"
      ]
     },
     "execution_count": 5,
     "metadata": {},
     "output_type": "execute_result"
    }
   ],
   "source": [
    "max(ar)"
   ]
  },
  {
   "cell_type": "code",
   "execution_count": 25,
   "id": "ef147bc2",
   "metadata": {
    "scrolled": false
   },
   "outputs": [
    {
     "name": "stdout",
     "output_type": "stream",
     "text": [
      "0:00:04.407617\n"
     ]
    },
    {
     "data": {
      "text/plain": [
       "0.8595671363142509"
      ]
     },
     "execution_count": 25,
     "metadata": {},
     "output_type": "execute_result"
    }
   ],
   "source": [
    "p=MCIntegration(100000,100,0,1)\n",
    "max(p, key=p.count)"
   ]
  },
  {
   "cell_type": "code",
   "execution_count": null,
   "id": "e9fdeb7b",
   "metadata": {},
   "outputs": [],
   "source": []
  }
 ],
 "metadata": {
  "kernelspec": {
   "display_name": "Python 3 (ipykernel)",
   "language": "python",
   "name": "python3"
  },
  "language_info": {
   "codemirror_mode": {
    "name": "ipython",
    "version": 3
   },
   "file_extension": ".py",
   "mimetype": "text/x-python",
   "name": "python",
   "nbconvert_exporter": "python",
   "pygments_lexer": "ipython3",
   "version": "3.9.13"
  }
 },
 "nbformat": 4,
 "nbformat_minor": 5
}
